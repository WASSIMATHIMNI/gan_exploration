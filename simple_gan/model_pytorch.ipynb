{
 "cells": [
  {
   "cell_type": "markdown",
   "metadata": {},
   "source": [
    "# Simple GAN"
   ]
  },
  {
   "cell_type": "code",
   "execution_count": 1,
   "metadata": {},
   "outputs": [],
   "source": [
    "import numpy as np\n",
    "import torch\n",
    "import torch.nn as nn\n",
    "import torch.nn.functional as F\n",
    "import torch.optim as optim\n",
    "from torch.autograd import Variable\n",
    "from matplotlib import pyplot as plt"
   ]
  },
  {
   "cell_type": "markdown",
   "metadata": {},
   "source": [
    "We will apply a gan to match a Gaussian 0,1 (noise) to a Gaussian 10,1 (real data distribution) "
   ]
  },
  {
   "cell_type": "markdown",
   "metadata": {},
   "source": [
    "## Prep Data"
   ]
  },
  {
   "cell_type": "code",
   "execution_count": 2,
   "metadata": {},
   "outputs": [],
   "source": [
    "def get_generated_data_sample(n):\n",
    "    return torch.Tensor(np.random.normal(0, 1, (n,1)))"
   ]
  },
  {
   "cell_type": "code",
   "execution_count": 3,
   "metadata": {},
   "outputs": [],
   "source": [
    "# Real data here follows a Gaussian Distribution of mean 10, std 1\n",
    "def get_real_data_sample(n):\n",
    "    return torch.Tensor(np.random.normal(10, 1, (n,1)))"
   ]
  },
  {
   "cell_type": "code",
   "execution_count": 4,
   "metadata": {},
   "outputs": [
    {
     "data": {
      "text/plain": [
       "(tensor([[-1.7694]]), tensor([[ 11.5412]]))"
      ]
     },
     "execution_count": 4,
     "metadata": {},
     "output_type": "execute_result"
    }
   ],
   "source": [
    "get_generated_data_sample(1),get_real_data_sample(1)"
   ]
  },
  {
   "cell_type": "markdown",
   "metadata": {},
   "source": [
    "## Define Generator and Discriminator Classes"
   ]
  },
  {
   "cell_type": "code",
   "execution_count": 5,
   "metadata": {},
   "outputs": [],
   "source": [
    "class Generator(nn.Module):\n",
    "    \n",
    "    def __init__(self):\n",
    "        super(Generator, self).__init__()\n",
    "\n",
    "        self.lt1 = nn.Linear(1, 50)\n",
    "        self.lt2 = nn.Linear(50, 1)\n",
    "\n",
    "    def forward(self, x):\n",
    "        \n",
    "        x = F.relu(self.lt1(x))\n",
    "        return self.lt2(x)\n",
    "    "
   ]
  },
  {
   "cell_type": "code",
   "execution_count": 6,
   "metadata": {},
   "outputs": [],
   "source": [
    "class Discriminator(nn.Module):\n",
    "    \n",
    "    def __init__(self):\n",
    "        super(Discriminator, self).__init__()\n",
    "        self.lt1 = nn.Linear(1, 50)\n",
    "        self.lt2 = nn.Linear(50, 50)\n",
    "        self.lt3 = nn.Linear(50, 1)\n",
    "\n",
    "    def forward(self, x):\n",
    "        x = F.relu(self.lt1(x))\n",
    "        x = F.relu(self.lt2(x))\n",
    "        return F.sigmoid(self.lt3(x))"
   ]
  },
  {
   "cell_type": "code",
   "execution_count": 9,
   "metadata": {},
   "outputs": [],
   "source": [
    "G = Generator()\n",
    "D = Discriminator()"
   ]
  },
  {
   "cell_type": "code",
   "execution_count": 11,
   "metadata": {},
   "outputs": [],
   "source": [
    "loss = nn.BCELoss()  # Binary cross entropy: http://pytorch.org/docs/nn.html#bceloss"
   ]
  },
  {
   "cell_type": "code",
   "execution_count": 13,
   "metadata": {},
   "outputs": [],
   "source": [
    "d_optimizer = optim.Adam(D.parameters(), lr=1e-3)\n",
    "g_optimizer = optim.Adam(G.parameters(), lr=1e-3)"
   ]
  },
  {
   "cell_type": "markdown",
   "metadata": {},
   "source": [
    "## Define Our Training Code"
   ]
  },
  {
   "cell_type": "code",
   "execution_count": 14,
   "metadata": {},
   "outputs": [],
   "source": [
    "def train_discriminator(num_epochs = 0):\n",
    "    global batch_size\n",
    "    \n",
    "    for d_index in range(num_epochs):\n",
    "\n",
    "        # 1. Train D on real+fake\n",
    "        D.zero_grad()\n",
    "\n",
    "        #  A: Train D on real\n",
    "        d_real_data = Variable(get_real_data_sample(batch_size))\n",
    "        d_real_decision = D(d_real_data)\n",
    "        d_real_error = loss(d_real_decision, Variable(torch.ones(batch_size,1)))  # ones = true\n",
    "        d_real_error.backward() # compute/store gradients, but don't change params\n",
    "\n",
    "        #  B: Train D on fake\n",
    "        d_gen_input = Variable(get_generated_data_sample(batch_size))\n",
    "        d_fake_data = G(d_gen_input).detach()  # detach to avoid training G on these labels\n",
    "        d_fake_decision = D(d_fake_data)\n",
    "        d_fake_error = loss(d_fake_decision, Variable(torch.zeros(batch_size,1)))  # zeros = fake\n",
    "        d_fake_error.backward()\n",
    "\n",
    "        d_optimizer.step()    # Only optimizes D's parameters; changes based on stored gradients from backward()\n",
    "\n",
    "        return d_real_error+d_fake_error"
   ]
  },
  {
   "cell_type": "code",
   "execution_count": 19,
   "metadata": {},
   "outputs": [],
   "source": [
    "def train_generator(num_epochs = 0):\n",
    "    global batch_size\n",
    "    \n",
    "    for g_index in range(num_epochs):\n",
    "\n",
    "        # 2. Train G on D's response\n",
    "        G.zero_grad()\n",
    "\n",
    "        gen_input = Variable(get_generated_data_sample(batch_size))\n",
    "        g_fake_data = G(gen_input)\n",
    "        d_fake_decision = D(g_fake_data)\n",
    "        \n",
    "        # here we want to fool, so we need to make the generator go towards producing 1s\n",
    "        \n",
    "        \n",
    "        g_error = loss(d_fake_decision, Variable(torch.ones(batch_size,1))) \n",
    "\n",
    "        g_error.backward()\n",
    "        g_optimizer.step()  # Only optimizes G's parameters\n",
    "\n",
    "        return g_error"
   ]
  },
  {
   "cell_type": "code",
   "execution_count": 20,
   "metadata": {},
   "outputs": [],
   "source": [
    "def train(num_epochs):\n",
    "    for epoch in range(num_epochs):\n",
    "\n",
    "        d_loss = train_discriminator(2) #train discriminator with a 2:1 ratio\n",
    "        g_loss = train_generator(1)\n",
    "\n",
    "\n",
    "        if epoch % print_interval == 0:\n",
    "            print(\"{}: Total Loss: {} / D: {} / G: {}\".format(epoch,(d_loss+g_loss).item(),d_loss.item(),g_loss.item()))"
   ]
  },
  {
   "cell_type": "markdown",
   "metadata": {},
   "source": [
    "## TRAIN"
   ]
  },
  {
   "cell_type": "code",
   "execution_count": 21,
   "metadata": {},
   "outputs": [],
   "source": [
    "num_epochs = 2000\n",
    "batch_size = 64\n",
    "d_steps = 2  # 'k' steps in the original GAN paper. Can put the discriminator on higher training freq than generator\n",
    "g_steps = 1\n",
    "print_interval = 200"
   ]
  },
  {
   "cell_type": "code",
   "execution_count": 22,
   "metadata": {},
   "outputs": [
    {
     "name": "stdout",
     "output_type": "stream",
     "text": [
      "0: Total Loss: 1.9231290817260742 / D: 1.2399563789367676 / G: 0.6831727027893066\n",
      "200: Total Loss: 2.7783594131469727 / D: 0.42315608263015747 / G: 2.35520339012146\n",
      "400: Total Loss: 2.113056182861328 / D: 1.3129521608352661 / G: 0.8001041412353516\n",
      "600: Total Loss: 2.11081862449646 / D: 1.3895102739334106 / G: 0.7213083505630493\n",
      "800: Total Loss: 2.2005233764648438 / D: 1.3979523181915283 / G: 0.8025710582733154\n",
      "1000: Total Loss: 2.0480828285217285 / D: 1.3868937492370605 / G: 0.661189079284668\n",
      "1200: Total Loss: 2.110715866088867 / D: 1.3879331350326538 / G: 0.7227827310562134\n",
      "1400: Total Loss: 2.048593521118164 / D: 1.388087272644043 / G: 0.6605063080787659\n",
      "1600: Total Loss: 2.025691032409668 / D: 1.3892383575439453 / G: 0.6364527344703674\n",
      "1800: Total Loss: 2.0215823650360107 / D: 1.3870400190353394 / G: 0.6345422863960266\n"
     ]
    }
   ],
   "source": [
    "train(num_epochs)"
   ]
  },
  {
   "cell_type": "code",
   "execution_count": 23,
   "metadata": {},
   "outputs": [
    {
     "data": {
      "text/plain": [
       "tensor([ 7.9089])"
      ]
     },
     "execution_count": 23,
     "metadata": {},
     "output_type": "execute_result"
    }
   ],
   "source": [
    "generated = G(torch.Tensor([0]));generated"
   ]
  },
  {
   "cell_type": "code",
   "execution_count": 24,
   "metadata": {},
   "outputs": [
    {
     "data": {
      "text/plain": [
       "tensor([ 0.1084])"
      ]
     },
     "execution_count": 24,
     "metadata": {},
     "output_type": "execute_result"
    }
   ],
   "source": [
    "confidence = D(torch.Tensor([0])); confidence"
   ]
  }
 ],
 "metadata": {
  "kernelspec": {
   "display_name": "Python 3",
   "language": "python",
   "name": "python3"
  },
  "language_info": {
   "codemirror_mode": {
    "name": "ipython",
    "version": 3
   },
   "file_extension": ".py",
   "mimetype": "text/x-python",
   "name": "python",
   "nbconvert_exporter": "python",
   "pygments_lexer": "ipython3",
   "version": "3.6.4"
  }
 },
 "nbformat": 4,
 "nbformat_minor": 2
}
