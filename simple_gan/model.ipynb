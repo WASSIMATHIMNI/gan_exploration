{
 "cells": [
  {
   "cell_type": "markdown",
   "metadata": {},
   "source": [
    "# Simple GAN"
   ]
  },
  {
   "cell_type": "code",
   "execution_count": 12,
   "metadata": {},
   "outputs": [],
   "source": [
    "import numpy as np\n",
    "import torch\n",
    "import torch.nn as nn\n",
    "import torch.nn.functional as F\n",
    "import torch.optim as optim\n",
    "from torch.autograd import Variable\n",
    "from matplotlib import pyplot as plt"
   ]
  },
  {
   "cell_type": "markdown",
   "metadata": {},
   "source": [
    "We will apply a gan to match a Gaussian 0,1 (noise) to a Gaussian 10,1 (real data distribution) "
   ]
  },
  {
   "cell_type": "markdown",
   "metadata": {},
   "source": [
    "## Prep Data"
   ]
  },
  {
   "cell_type": "code",
   "execution_count": 13,
   "metadata": {},
   "outputs": [],
   "source": [
    "def get_generated_data_sample(n):\n",
    "    return torch.Tensor(np.random.normal(0, 1, (n,1)))"
   ]
  },
  {
   "cell_type": "code",
   "execution_count": 14,
   "metadata": {},
   "outputs": [],
   "source": [
    "# Real data here follows a Gaussian Distribution of mean 10, std 1\n",
    "def get_real_data_sample(n):\n",
    "    return torch.Tensor(np.random.normal(10, 1, (n,1)))"
   ]
  },
  {
   "cell_type": "code",
   "execution_count": 15,
   "metadata": {},
   "outputs": [
    {
     "data": {
      "text/plain": [
       "(tensor([[ 0.4486]]), tensor([[ 11.6524]]))"
      ]
     },
     "execution_count": 15,
     "metadata": {},
     "output_type": "execute_result"
    }
   ],
   "source": [
    "get_generated_data_sample(1),get_real_data_sample(1)"
   ]
  },
  {
   "cell_type": "markdown",
   "metadata": {},
   "source": [
    "## Define Generator and Discriminator Classes"
   ]
  },
  {
   "cell_type": "code",
   "execution_count": 16,
   "metadata": {},
   "outputs": [],
   "source": [
    "class Generator(nn.Module):\n",
    "    \n",
    "    def __init__(self):\n",
    "        super(Generator, self).__init__()\n",
    "\n",
    "        self.lt1 = nn.Linear(1, 50)\n",
    "        self.lt2 = nn.Linear(50, 1)\n",
    "\n",
    "    def forward(self, x):\n",
    "        \n",
    "        x = F.relu(self.lt1(x))\n",
    "        return self.lt2(x)\n",
    "    "
   ]
  },
  {
   "cell_type": "code",
   "execution_count": 17,
   "metadata": {},
   "outputs": [],
   "source": [
    "class Discriminator(nn.Module):\n",
    "    \n",
    "    def __init__(self):\n",
    "        super(Discriminator, self).__init__()\n",
    "        self.lt1 = nn.Linear(1, 50)\n",
    "        self.lt2 = nn.Linear(50, 50)\n",
    "        self.lt3 = nn.Linear(50, 1)\n",
    "\n",
    "    def forward(self, x):\n",
    "        x = F.relu(self.lt1(x))\n",
    "        x = F.relu(self.lt2(x))\n",
    "        return F.sigmoid(self.lt3(x))"
   ]
  },
  {
   "cell_type": "code",
   "execution_count": 18,
   "metadata": {},
   "outputs": [],
   "source": [
    "G = Generator()\n",
    "D = Discriminator()"
   ]
  },
  {
   "cell_type": "code",
   "execution_count": 19,
   "metadata": {},
   "outputs": [],
   "source": [
    "loss = nn.BCELoss()  # Binary cross entropy: http://pytorch.org/docs/nn.html#bceloss"
   ]
  },
  {
   "cell_type": "code",
   "execution_count": 20,
   "metadata": {},
   "outputs": [],
   "source": [
    "d_optimizer = optim.Adam(D.parameters(), lr=1e-3)\n",
    "g_optimizer = optim.Adam(G.parameters(), lr=1e-3)"
   ]
  },
  {
   "cell_type": "markdown",
   "metadata": {},
   "source": [
    "## Define Our Training Code"
   ]
  },
  {
   "cell_type": "code",
   "execution_count": 21,
   "metadata": {},
   "outputs": [],
   "source": [
    "def train_discriminator(num_epochs = 0):\n",
    "    global batch_size\n",
    "    \n",
    "    for d_index in range(num_epochs):\n",
    "\n",
    "        # 1. Train D on real+fake\n",
    "        D.zero_grad()\n",
    "\n",
    "        #  A: Train D on real\n",
    "        d_real_data = Variable(get_real_data_sample(batch_size))\n",
    "        d_real_decision = D(d_real_data)\n",
    "        d_real_error = loss(d_real_decision, Variable(torch.ones(batch_size,1)))  # ones = true\n",
    "        d_real_error.backward() # compute/store gradients, but don't change params\n",
    "\n",
    "        #  B: Train D on fake\n",
    "        d_gen_input = Variable(get_generated_data_sample(batch_size))\n",
    "        d_fake_data = G(d_gen_input).detach()  # detach to avoid training G on these labels\n",
    "        d_fake_decision = D(d_fake_data)\n",
    "        d_fake_error = loss(d_fake_decision, Variable(torch.zeros(batch_size,1)))  # zeros = fake\n",
    "        d_fake_error.backward()\n",
    "\n",
    "        d_optimizer.step()    # Only optimizes D's parameters; changes based on stored gradients from backward()\n",
    "\n",
    "        return d_real_error+d_fake_error"
   ]
  },
  {
   "cell_type": "code",
   "execution_count": 22,
   "metadata": {},
   "outputs": [],
   "source": [
    "def train_generator(num_epochs = 0):\n",
    "    global batch_size\n",
    "    \n",
    "    for g_index in range(num_epochs):\n",
    "\n",
    "        # 2. Train G on D's response\n",
    "        G.zero_grad()\n",
    "\n",
    "        gen_input = Variable(get_generated_data_sample(batch_size))\n",
    "        g_fake_data = G(gen_input)\n",
    "        d_fake_decision = D(g_fake_data)\n",
    "        \n",
    "        # here we want to fool, so we need to make the generator go towards producing 1s\n",
    "        g_error = loss(d_fake_decision, Variable(torch.ones(batch_size,1)))  \n",
    "\n",
    "        g_error.backward()\n",
    "        g_optimizer.step()  # Only optimizes G's parameters\n",
    "\n",
    "        return g_error"
   ]
  },
  {
   "cell_type": "code",
   "execution_count": 23,
   "metadata": {},
   "outputs": [],
   "source": [
    "def train(num_epochs):\n",
    "    for epoch in range(num_epochs):\n",
    "\n",
    "        d_loss = train_discriminator(d_steps)\n",
    "        g_loss = train_generator(g_steps)\n",
    "\n",
    "\n",
    "        if epoch % print_interval == 0:\n",
    "            print(\"{}: Total Loss: {} / D: {} / G: {}\".format(epoch,(d_loss+g_loss).item(),d_loss.item(),g_loss.item()))"
   ]
  },
  {
   "cell_type": "markdown",
   "metadata": {},
   "source": [
    "## TRAIN"
   ]
  },
  {
   "cell_type": "code",
   "execution_count": 33,
   "metadata": {},
   "outputs": [],
   "source": [
    "num_epochs = 2000\n",
    "batch_size = 64   # Minibatch size - cardinality of distributions\n",
    "d_steps = 2  # 'k' steps in the original GAN paper. Can put the discriminator on higher training freq than generator\n",
    "g_steps = 1\n",
    "print_interval = 200"
   ]
  },
  {
   "cell_type": "code",
   "execution_count": 34,
   "metadata": {},
   "outputs": [
    {
     "name": "stdout",
     "output_type": "stream",
     "text": [
      "0: Total Loss: 2.1040873527526855 / D: 1.3847991228103638 / G: 0.7192882299423218\n",
      "200: Total Loss: 2.0813894271850586 / D: 1.3695675134658813 / G: 0.7118218541145325\n",
      "400: Total Loss: 2.071267604827881 / D: 1.3736796379089355 / G: 0.6975880861282349\n",
      "600: Total Loss: 2.092691421508789 / D: 1.386200189590454 / G: 0.7064912915229797\n",
      "800: Total Loss: 2.0968101024627686 / D: 1.3837002515792847 / G: 0.7131098508834839\n",
      "1000: Total Loss: 2.101151943206787 / D: 1.385023593902588 / G: 0.7161283493041992\n",
      "1200: Total Loss: 2.0602939128875732 / D: 1.4204730987548828 / G: 0.6398208737373352\n",
      "1400: Total Loss: 2.0187182426452637 / D: 1.0863401889801025 / G: 0.9323779940605164\n",
      "1600: Total Loss: 1.8058009147644043 / D: 1.1107898950576782 / G: 0.6950110793113708\n",
      "1800: Total Loss: 2.0861549377441406 / D: 1.545760154724121 / G: 0.5403948426246643\n"
     ]
    }
   ],
   "source": [
    "train(num_epochs)"
   ]
  },
  {
   "cell_type": "code",
   "execution_count": 43,
   "metadata": {},
   "outputs": [
    {
     "data": {
      "text/plain": [
       "tensor([ 12.2723])"
      ]
     },
     "execution_count": 43,
     "metadata": {},
     "output_type": "execute_result"
    }
   ],
   "source": [
    "generated = G(torch.Tensor([0]));generated"
   ]
  },
  {
   "cell_type": "code",
   "execution_count": 39,
   "metadata": {},
   "outputs": [
    {
     "data": {
      "text/plain": [
       "tensor([ 0.1158])"
      ]
     },
     "execution_count": 39,
     "metadata": {},
     "output_type": "execute_result"
    }
   ],
   "source": [
    "confidence = D(torch.Tensor([0])); confidence"
   ]
  }
 ],
 "metadata": {
  "kernelspec": {
   "display_name": "Python 3",
   "language": "python",
   "name": "python3"
  },
  "language_info": {
   "codemirror_mode": {
    "name": "ipython",
    "version": 3
   },
   "file_extension": ".py",
   "mimetype": "text/x-python",
   "name": "python",
   "nbconvert_exporter": "python",
   "pygments_lexer": "ipython3",
   "version": "3.6.4"
  }
 },
 "nbformat": 4,
 "nbformat_minor": 2
}
