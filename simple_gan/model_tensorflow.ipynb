{
 "cells": [
  {
   "cell_type": "code",
   "execution_count": null,
   "metadata": {},
   "outputs": [],
   "source": [
    "import tensorflow as tf\n",
    "import numpy as np\n",
    "import matplotlib.pyplot as plt\n",
    "%matplotlib inline\n",
    "import math"
   ]
  },
  {
   "cell_type": "code",
   "execution_count": null,
   "metadata": {},
   "outputs": [],
   "source": [
    "def fun_dist(x):\n",
    "    return 1 / ( 1 + math.exp(-x))\n",
    "\n",
    "def real_data(m):\n",
    "    # random distribution in (-5,5)\n",
    "    x = 10*(np.random.random_sample((m,))) - 5.0 \n",
    "    data = []\n",
    "    for t in x:\n",
    "        data.append([t, fun_dist(t)])\n",
    "    return np.array(data)   \n",
    "\n",
    "\n",
    "def noise_sample(m, n):\n",
    "    return np.random.uniform(-5., 5., size=[m, n])\n",
    "\n",
    "xy = real_data(200)\n",
    "plt.plot(xy[:, 0], xy[:,1], 'r*')"
   ]
  },
  {
   "cell_type": "code",
   "execution_count": null,
   "metadata": {},
   "outputs": [],
   "source": [
    "def generator(z,reuse=None):\n",
    "    with tf.variable_scope('gen',reuse=reuse):\n",
    "        hidden1 = tf.layers.dense(z,32,activation = tf.nn.leaky_relu)\n",
    "        hidden2 = tf.layers.dense(hidden1,32, activation = tf.nn.leaky_relu)\n",
    "        output_layer = tf.layers.dense(hidden2,2)\n",
    "        return output_layer\n",
    "    "
   ]
  },
  {
   "cell_type": "code",
   "execution_count": null,
   "metadata": {},
   "outputs": [],
   "source": [
    "def discriminator(X,reuse=None):\n",
    "    with tf.variable_scope('dis',reuse=reuse):\n",
    "        hidden1 = tf.layers.dense(X, 32, activation=tf.nn.leaky_relu)\n",
    "        hidden2 = tf.layers.dense(hidden1,32, activation=tf.nn.leaky_relu)\n",
    "        hidden3 = tf.layers.dense(hidden2,2)\n",
    "        output = tf.layers.dense(hidden3,1)\n",
    "    \n",
    "        return output, hidden3"
   ]
  },
  {
   "cell_type": "code",
   "execution_count": null,
   "metadata": {},
   "outputs": [],
   "source": [
    "real_points= tf.placeholder(tf.float32, shape = [None,2])\n",
    "z = tf.placeholder(tf.float32,shape = [None,2])\n"
   ]
  },
  {
   "cell_type": "code",
   "execution_count": null,
   "metadata": {},
   "outputs": [],
   "source": [
    "G = generator(z)"
   ]
  },
  {
   "cell_type": "code",
   "execution_count": null,
   "metadata": {},
   "outputs": [],
   "source": [
    "D_output_real , D_logits_real = discriminator(real_points)"
   ]
  },
  {
   "cell_type": "code",
   "execution_count": null,
   "metadata": {},
   "outputs": [],
   "source": [
    "D_output_fake, D_logits_fake = discriminator(G,reuse=True)"
   ]
  },
  {
   "cell_type": "code",
   "execution_count": null,
   "metadata": {},
   "outputs": [],
   "source": [
    "def loss_func(logits_in,labels_in):\n",
    "    return tf.reduce_mean(tf.nn.sigmoid_cross_entropy_with_logits(logits=logits_in,labels=labels_in))\n"
   ]
  },
  {
   "cell_type": "code",
   "execution_count": null,
   "metadata": {},
   "outputs": [],
   "source": [
    "D_real_loss = loss_func(D_logits_real,tf.ones_like(D_logits_real))"
   ]
  },
  {
   "cell_type": "code",
   "execution_count": null,
   "metadata": {},
   "outputs": [],
   "source": [
    "D_fake_loss = loss_func(D_logits_fake,tf.zeros_like(D_logits_real))"
   ]
  },
  {
   "cell_type": "code",
   "execution_count": null,
   "metadata": {},
   "outputs": [],
   "source": [
    "#D_loss = D_real_loss + D_fake_loss\n",
    "D_loss = tf.reduce_mean(tf.nn.sigmoid_cross_entropy_with_logits(logits=D_logits_real,labels=tf.ones_like(D_logits_real)) + \n",
    "                       tf.nn.sigmoid_cross_entropy_with_logits(logits=D_logits_fake,labels=tf.zeros_like(D_logits_real)))"
   ]
  },
  {
   "cell_type": "code",
   "execution_count": null,
   "metadata": {},
   "outputs": [],
   "source": [
    "G_loss = loss_func(D_logits_fake,tf.ones_like(D_logits_fake))"
   ]
  },
  {
   "cell_type": "code",
   "execution_count": null,
   "metadata": {},
   "outputs": [],
   "source": [
    "learning_rate = 0.001"
   ]
  },
  {
   "cell_type": "code",
   "execution_count": null,
   "metadata": {},
   "outputs": [],
   "source": [
    "tvars = tf.trainable_variables()\n",
    "\n",
    "d_vars = [var for var in tvars if 'dis' in var.name]\n",
    "g_vars = [var for var in tvars if 'gen' in var.name]\n",
    "\n",
    "print([v.name for v in d_vars])\n",
    "print([v.name for v in g_vars])"
   ]
  },
  {
   "cell_type": "code",
   "execution_count": null,
   "metadata": {},
   "outputs": [],
   "source": [
    "D_trainer = tf.train.RMSPropOptimizer(learning_rate).minimize(D_loss, var_list=d_vars)\n"
   ]
  },
  {
   "cell_type": "code",
   "execution_count": null,
   "metadata": {},
   "outputs": [],
   "source": [
    "G_trainer = tf.train.RMSPropOptimizer(learning_rate).minimize(G_loss, var_list=g_vars)"
   ]
  },
  {
   "cell_type": "code",
   "execution_count": null,
   "metadata": {},
   "outputs": [],
   "source": [
    "samples = []"
   ]
  },
  {
   "cell_type": "code",
   "execution_count": null,
   "metadata": {},
   "outputs": [],
   "source": [
    "# sess = tf.Session(config=config)\n",
    "sess = tf.Session()\n",
    "tf.global_variables_initializer().run(session=sess)\n",
    "batch_num = 100\n",
    "dis_steps = 10\n",
    "gen_steps = 10"
   ]
  },
  {
   "cell_type": "code",
   "execution_count": null,
   "metadata": {},
   "outputs": [],
   "source": [
    "real_data_plot = real_data(batch_num)\n",
    "\n",
    "f = open('gen_dis_loss_logs_1.csv','w')\n",
    "f.write('Iteration,Discriminator Loss,Generator Loss\\n')\n",
    "\n",
    "for i in range(10001):\n",
    "    X_batch = real_data(batch_num)\n",
    "    Z_batch = noise_sample(batch_num, 2)\n",
    "\n",
    "    for _ in range(dis_steps):\n",
    "        _, dis_loss = sess.run([D_trainer, D_loss], feed_dict={real_points: X_batch, z: Z_batch})\n",
    "    dis_real_step, gen_fake_step = sess.run([D_logits_real,D_logits_fake], feed_dict={real_points: X_batch, z: Z_batch})\n",
    "    \n",
    "    for _ in range(gen_steps):\n",
    "        _, gen_loss = sess.run([G_trainer, G_loss], feed_dict={z: Z_batch})\n",
    "    dis_fake_step, gen_real_step = sess.run([D_logits_real, D_logits_fake], feed_dict={real_points: X_batch, z: Z_batch})\n",
    "\n",
    "    print(\"Iterations: %d\\t Discriminator loss: %.2f\\t Generator loss: %.2f\"%(i,dis_loss,gen_loss))\n",
    "    \n",
    "    if i%10 == 0:\n",
    "        f.write(\"%d,%f,%f\\n\"%(i,dis_loss,gen_loss))\n",
    "\n",
    "    if i%1000 == 0:\n",
    "        plt.figure()\n",
    "        gen_plot = sess.run(G, feed_dict={z: Z_batch})\n",
    "        real_axes = plt.scatter(real_data_plot[:,0], real_data_plot[:,1])\n",
    "        gen_axes = plt.scatter(gen_plot[:,0],gen_plot[:,1])\n",
    "\n",
    "        plt.legend((real_axes,gen_axes), (\"Real Data\",\"Generated Data\"))\n",
    "        plt.title('Samples at Iteration %d'%i)\n",
    "        plt.tight_layout()\n",
    "        \n",
    "        plt.savefig('sample_iteration_%d.png'%i)\n",
    "\n",
    "        plt.close()\n",
    "\n",
    "f.close()"
   ]
  },
  {
   "cell_type": "code",
   "execution_count": 23,
   "metadata": {},
   "outputs": [
    {
     "data": {
      "image/png": "[encoded data removed]",
      "text/plain": [
       "<Figure size 432x288 with 1 Axes>"
      ]
     },
     "metadata": {},
     "output_type": "display_data"
    }
   ],
   "source": [
    "\n",
    "# data = sample_data(n=256)\n",
    "#\n",
    "# plt.scatter(data[:,0], data[:,1])\n",
    "import pandas as pd\n",
    "data = pd.read_csv('gen_dis_loss_logs_1.csv')\n",
    "\n",
    "plt.plot('Iteration','Discriminator Loss',data=data)\n",
    "plt.plot('Iteration','Generator Loss',data=data)\n",
    "\n",
    "plt.legend()\n",
    "plt.title('Training Losses')\n",
    "plt.tight_layout()\n",
    "plt.savefig('dataset.png')\n",
    "plt.savefig('training_loss.png')\n",
    "plt.show()"
   ]
  }
 ],
 "metadata": {
  "kernelspec": {
   "display_name": "Python 3",
   "language": "python",
   "name": "python3"
  },
  "language_info": {
   "codemirror_mode": {
    "name": "ipython",
    "version": 3
   },
   "file_extension": ".py",
   "mimetype": "text/x-python",
   "name": "python",
   "nbconvert_exporter": "python",
   "pygments_lexer": "ipython3",
   "version": "3.6.5"
  },
  "widgets": {
   "application/vnd.jupyter.widget-state+json": {
    "state": {},
    "version_major": 2,
    "version_minor": 0
   }
  }
 },
 "nbformat": 4,
 "nbformat_minor": 2
}
