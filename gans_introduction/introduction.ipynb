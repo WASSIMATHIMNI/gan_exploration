{
 "cells": [
  {
   "cell_type": "markdown",
   "metadata": {},
   "source": [
    "# Introduction to Generative Adversarial Networks (GAN)"
   ]
  },
  {
   "cell_type": "markdown",
   "metadata": {},
   "source": [
    "1. Overview over the first GAN paper published in 2014\n",
    "3. Potential applications\n",
    "4. Code a Simple GAN"
   ]
  },
  {
   "cell_type": "markdown",
   "metadata": {},
   "source": [
    "The original paper: https://arxiv.org/abs/1406.2661"
   ]
  },
  {
   "cell_type": "markdown",
   "metadata": {},
   "source": [
    "## Architecture"
   ]
  },
  {
   "cell_type": "markdown",
   "metadata": {},
   "source": [
    "![Architecture](https://cdn-images-1.medium.com/max/1600/0*2Smzp-1MDx2TTwU6.png)"
   ]
  },
  {
   "cell_type": "markdown",
   "metadata": {},
   "source": [
    "## Loss function"
   ]
  },
  {
   "cell_type": "markdown",
   "metadata": {},
   "source": [
    "We will define a couple of variables:\n",
    "\n",
    "- Pdata := pdf of real data\n",
    "- Pz := pdf of generated noise\n",
    "- Z := Random Variable of Chosen Noise\n",
    "- X := Random Variable of Real Data\n"
   ]
  },
  {
   "cell_type": "markdown",
   "metadata": {},
   "source": [
    "![Loss function](https://image.slidesharecdn.com/aimeetgans-170110113744/95/generative-adversarial-networks-and-their-applications-9-638.jpg?cb=1484049167)"
   ]
  },
  {
   "cell_type": "markdown",
   "metadata": {},
   "source": [
    "The algorithm goes as follows:\n",
    "\n",
    "![GAN algo](https://s3-ap-south-1.amazonaws.com/av-blog-media/wp-content/uploads/2017/06/11000810/g3.png)"
   ]
  },
  {
   "cell_type": "markdown",
   "metadata": {},
   "source": [
    "### Some Takeaways\n",
    "\n",
    "1. The global minimum of the virtual training criterion C(G) is achieved **if and only if** Pg = Pdata. At that point, C(G) achieves the value −log 4.\n",
    "\n",
    "2. At global minimum (Pg = Pdata), D(x) = 1/2\n",
    "3. If G and D have enough capacity, Pg converges to Pdata"
   ]
  },
  {
   "cell_type": "markdown",
   "metadata": {},
   "source": [
    "## Where can we use this?"
   ]
  },
  {
   "cell_type": "markdown",
   "metadata": {},
   "source": [
    "- Model Security\n",
    "- Content Generation (images,text,sound,numbers)\n",
    "- Content Alteration\n",
    "- Model Robustness\n",
    "- Denoising data\n",
    "- Style transfers\n",
    "- And many more..."
   ]
  },
  {
   "cell_type": "markdown",
   "metadata": {},
   "source": [
    "## Examples of Application"
   ]
  },
  {
   "cell_type": "markdown",
   "metadata": {},
   "source": [
    "List of GAN architectures so far:\n",
    "https://github.com/hindupuravinash/the-gan-zoo\n",
    "\n",
    "Some Cool Applications:\n",
    "- Everybody Dance Now: https://twitter.com/hardmaru/status/1032762806796312576?lang=en\n",
    "- TL GAN: https://github.com/SummitKwan/transparent_latent_gan\n",
    "- Other examples: https://distill.pub/2017/aia/\n"
   ]
  },
  {
   "cell_type": "markdown",
   "metadata": {},
   "source": [
    "# Conditional and Semi-Supervised GANs"
   ]
  },
  {
   "cell_type": "markdown",
   "metadata": {},
   "source": [
    "- Conditional GAN Paper link: https://arxiv.org/abs/1411.1784\n",
    "- Semi-Supervised GAN Paper link: https://arxiv.org/abs/1606.01583"
   ]
  },
  {
   "cell_type": "markdown",
   "metadata": {},
   "source": [
    "## Conditional GAN Architecture"
   ]
  },
  {
   "cell_type": "markdown",
   "metadata": {},
   "source": [
    "![Conditional GAN](http://guimperarnau.com/files/blog/Fantastic-GANs-and-where-to-find-them/cGAN_overview.jpg)"
   ]
  },
  {
   "cell_type": "markdown",
   "metadata": {},
   "source": [
    "See Paper for loss function being optimized"
   ]
  },
  {
   "cell_type": "markdown",
   "metadata": {},
   "source": [
    "This enables us to now have a certain control on what is being generated.\n",
    "\n",
    "A few examples:\n",
    "- Denoising Images\n",
    "- Filling a missing part of an image\n",
    "- Etc..."
   ]
  },
  {
   "cell_type": "markdown",
   "metadata": {},
   "source": [
    "## Semi Supervised GAN Architecture"
   ]
  },
  {
   "cell_type": "markdown",
   "metadata": {},
   "source": [
    "![Semi-Supervised GAN](https://sthalles.github.io/assets/semi-supervised/GAN_classifier.png)"
   ]
  },
  {
   "cell_type": "markdown",
   "metadata": {},
   "source": [
    "It can also be viewd as a \"Supervised\" GAN Architecture. This structure provides more robustness to the discriminator in a supervised setting for any task"
   ]
  },
  {
   "cell_type": "markdown",
   "metadata": {},
   "source": [
    "## Other Architectures"
   ]
  },
  {
   "cell_type": "markdown",
   "metadata": {},
   "source": [
    "Plenty... Out of these 2 architecture, we can also come up with a Conditonal Semi-Supervised GAN. This would enable Supervised training with a classifier that is also being bombarded with outside data and fake data. This will enable us to create more robust discriminators. "
   ]
  },
  {
   "cell_type": "code",
   "execution_count": null,
   "metadata": {},
   "outputs": [],
   "source": []
  }
 ],
 "metadata": {
  "kernelspec": {
   "display_name": "Python 3",
   "language": "python",
   "name": "python3"
  },
  "language_info": {
   "codemirror_mode": {
    "name": "ipython",
    "version": 3
   },
   "file_extension": ".py",
   "mimetype": "text/x-python",
   "name": "python",
   "nbconvert_exporter": "python",
   "pygments_lexer": "ipython3",
   "version": "3.6.4"
  }
 },
 "nbformat": 4,
 "nbformat_minor": 2
}
